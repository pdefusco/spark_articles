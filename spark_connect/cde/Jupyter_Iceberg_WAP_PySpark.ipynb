{
 "cells": [
  {
   "cell_type": "code",
   "execution_count": 1,
   "id": "1aee2261-ac1f-4d81-b67f-7a58fcc60f62",
   "metadata": {},
   "outputs": [],
   "source": [
    "#****************************************************************************\n",
    "# (C) Cloudera, Inc. 2020-2023\n",
    "#  All rights reserved.\n",
    "#\n",
    "#  Applicable Open Source License: GNU Affero General Public License v3.0\n",
    "#\n",
    "#  NOTE: Cloudera open source products are modular software products\n",
    "#  made up of hundreds of individual components, each of which was\n",
    "#  individually copyrighted.  Each Cloudera open source product is a\n",
    "#  collective work under U.S. Copyright Law. Your license to use the\n",
    "#  collective work is as provided in your written agreement with\n",
    "#  Cloudera.  Used apart from the collective work, this file is\n",
    "#  licensed for your use pursuant to the open source license\n",
    "#  identified above.\n",
    "#\n",
    "#  This code is provided to you pursuant a written agreement with\n",
    "#  (i) Cloudera, Inc. or (ii) a third-party authorized to distribute\n",
    "#  this code. If you do not have a written agreement with Cloudera nor\n",
    "#  with an authorized and properly licensed third party, you do not\n",
    "#  have any rights to access nor to use this code.\n",
    "#\n",
    "#  Absent a written agreement with Cloudera, Inc. (“Cloudera”) to the\n",
    "#  contrary, A) CLOUDERA PROVIDES THIS CODE TO YOU WITHOUT WARRANTIES OF ANY\n",
    "#  KIND; (B) CLOUDERA DISCLAIMS ANY AND ALL EXPRESS AND IMPLIED\n",
    "#  WARRANTIES WITH RESPECT TO THIS CODE, INCLUDING BUT NOT LIMITED TO\n",
    "#  IMPLIED WARRANTIES OF TITLE, NON-INFRINGEMENT, MERCHANTABILITY AND\n",
    "#  FITNESS FOR A PARTICULAR PURPOSE; (C) CLOUDERA IS NOT LIABLE TO YOU,\n",
    "#  AND WILL NOT DEFEND, INDEMNIFY, NOR HOLD YOU HARMLESS FOR ANY CLAIMS\n",
    "#  ARISING FROM OR RELATED TO THE CODE; AND (D)WITH RESPECT TO YOUR EXERCISE\n",
    "#  OF ANY RIGHTS GRANTED TO YOU FOR THE CODE, CLOUDERA IS NOT LIABLE FOR ANY\n",
    "#  DIRECT, INDIRECT, INCIDENTAL, SPECIAL, EXEMPLARY, PUNITIVE OR\n",
    "#  CONSEQUENTIAL DAMAGES INCLUDING, BUT NOT LIMITED TO, DAMAGES\n",
    "#  RELATED TO LOST REVENUE, LOST PROFITS, LOSS OF INCOME, LOSS OF\n",
    "#  BUSINESS ADVANTAGE OR UNAVAILABILITY, OR LOSS OR CORRUPTION OF\n",
    "#  DATA.\n",
    "#\n",
    "# #  Author(s): Paul de Fusco\n",
    "#***************************************************************************/"
   ]
  },
  {
   "cell_type": "code",
   "execution_count": 2,
   "id": "e0f27e2f-da63-4521-9682-1545ad75bda2",
   "metadata": {},
   "outputs": [],
   "source": [
    "from os.path import exists\n",
    "from pyspark.sql import SparkSession\n",
    "import pyspark.sql.functions as F\n",
    "from pyspark.sql.types import *\n",
    "\n",
    "from cde import CDESparkConnectSession\n",
    "spark = CDESparkConnectSession.builder.sessionName('spark-connect-session-res').get()"
   ]
  },
  {
   "cell_type": "code",
   "execution_count": 3,
   "id": "1e1997fa-7d08-4d73-a54f-c631dbdd931a",
   "metadata": {},
   "outputs": [],
   "source": [
    "USERNAME = \"pauldefusco\"\n",
    "\n",
    "df  = spark.read.csv(\"/app/mount/cell_towers_1.csv\", header=True, inferSchema=True)\n",
    "df.writeTo(\"CELL_TOWERS_{}\".format(USERNAME)).using(\"iceberg\").tableProperty(\"write.format.default\", \"parquet\").createOrReplace()"
   ]
  },
  {
   "cell_type": "code",
   "execution_count": 4,
   "id": "0e8c27e7-385b-409e-8fcd-4fc28da51442",
   "metadata": {},
   "outputs": [
    {
     "data": {
      "text/plain": [
       "DataFrame[key: string, value: string]"
      ]
     },
     "execution_count": 4,
     "metadata": {},
     "output_type": "execute_result"
    }
   ],
   "source": [
    "# SET TABLE BRANCH AS ACTIVE - Skip: Not supported\n",
    "spark.sql(\"SET spark.wap.branch = 'ingestion_branch';\")"
   ]
  },
  {
   "cell_type": "code",
   "execution_count": 5,
   "id": "a4ec1ddb-01b8-43af-b903-a115859c3c59",
   "metadata": {},
   "outputs": [
    {
     "name": "stdout",
     "output_type": "stream",
     "text": [
      "root\n",
      " |-- id: integer (nullable = true)\n",
      " |-- device_id: string (nullable = true)\n",
      " |-- manufacturer: string (nullable = true)\n",
      " |-- event_type: string (nullable = true)\n",
      " |-- longitude: double (nullable = true)\n",
      " |-- latitude: double (nullable = true)\n",
      " |-- iot_signal_1: integer (nullable = true)\n",
      " |-- iot_signal_3: integer (nullable = true)\n",
      " |-- iot_signal_4: integer (nullable = true)\n",
      " |-- cell_tower_failure: integer (nullable = true)\n",
      "\n"
     ]
    }
   ],
   "source": [
    "# LOAD NEW TRANSACTION BATCH\n",
    "batchDf = spark.read.csv(\"/app/mount/cell_towers_2.csv\", header=True, inferSchema=True)\n",
    "batchDf.printSchema()\n",
    "batchDf.createOrReplaceTempView(\"BATCH_TEMP_VIEW\".format(USERNAME))"
   ]
  },
  {
   "cell_type": "code",
   "execution_count": 6,
   "id": "d6b6659d-8886-49e8-b448-f745514f1550",
   "metadata": {},
   "outputs": [],
   "source": [
    "# CREATE TABLE BRANCH - Supported\n",
    "spark.sql(\"ALTER TABLE CELL_TOWERS_{} CREATE BRANCH ingestion_branch\".format(USERNAME))\n",
    "# WRITE DATA OPERATION ON TABLE BRANCH - Supported\n",
    "batchDf.write.format(\"iceberg\").option(\"branch\", \"ingestion_branch\").mode(\"append\").save(\"CELL_TOWERS_{}\".format(USERNAME))"
   ]
  },
  {
   "cell_type": "code",
   "execution_count": 7,
   "id": "ba190b64-9b7f-446c-9ee7-485a39c652c2",
   "metadata": {},
   "outputs": [
    {
     "name": "stdout",
     "output_type": "stream",
     "text": [
      "+---+---------------+------------+------------------+----------+---------+------------+------------+------------+------------------+\n",
      "| id|      device_id|manufacturer|        event_type| longitude| latitude|iot_signal_1|iot_signal_3|iot_signal_4|cell_tower_failure|\n",
      "+---+---------------+------------+------------------+----------+---------+------------+------------+------------+------------------+\n",
      "|  0|0x1000000000005|TelecomWorld|system malfunction| -83.61318|51.656384|           3|          51|         104|                 1|\n",
      "|  1|0x100000000001d|TelecomWorld|       battery 10%| -83.04828|51.610226|           9|          52|         103|                 0|\n",
      "|  2|0x1000000000008|TelecomWorld|       battery 10%| -83.60245|51.892113|           6|          54|         103|                 0|\n",
      "|  3|0x100000000001b|     NewComm|       battery 10%| -82.80548|51.913082|           2|          53|         105|                 0|\n",
      "|  4|0x1000000000014|TelecomWorld|       battery 10%| -83.44709|51.972874|          10|          55|         102|                 1|\n",
      "|  5|0x100000000001c|  MyCellular|      device error| -83.46079| 51.81613|           3|          50|         105|                 0|\n",
      "|  6|0x1000000000005|TelecomWorld|system malfunction| -83.59761|51.855946|           2|          50|         102|                 1|\n",
      "|  7|0x100000000000b|TelecomWorld|      device error| -83.62492|51.891964|           5|          54|         102|                 0|\n",
      "|  8|0x1000000000024|     NewComm|       battery 10%| -83.60336|51.912792|           6|          53|         107|                 0|\n",
      "|  9|0x1000000000009|     NewComm|       battery 10%| -83.19714| 51.71434|           7|          53|         104|                 0|\n",
      "| 10|0x1000000000025|  MyCellular|      device error|-83.285675| 51.96362|           5|          55|         106|                 0|\n",
      "| 11|0x1000000000001|  MyCellular|       battery 10%| -83.31925|51.597042|           3|          51|         103|                 0|\n",
      "| 12|0x1000000000020|TelecomWorld|system malfunction| -83.36766|51.873108|           8|          53|         106|                 0|\n",
      "| 13|0x1000000000017|TelecomWorld|        battery 5%| -83.04949|51.906513|           4|          52|         105|                 0|\n",
      "| 14|0x1000000000022|  MyCellular|       battery 10%|  -83.6138|51.602722|           9|          54|         104|                 0|\n",
      "| 15|0x1000000000004|  MyCellular|       battery 10%| -83.31511|51.780037|           8|          51|         101|                 0|\n",
      "| 16|0x100000000001e|     NewComm|      device error| -83.29151| 51.93329|           3|          54|         107|                 0|\n",
      "| 17|0x1000000000012|     NewComm|       battery 10%|  -83.1536|51.704617|           5|          53|         101|                 0|\n",
      "| 18|0x100000000001e|     NewComm|        battery 5%| -83.61711| 52.26972|          10|          53|         101|                 0|\n",
      "| 19|0x1000000000004|  MyCellular|      device error|-82.990944|52.160133|           5|          55|         106|                 0|\n",
      "+---+---------------+------------+------------------+----------+---------+------------+------------+------------+------------------+\n",
      "only showing top 20 rows\n",
      "\n"
     ]
    }
   ],
   "source": [
    "spark.sql(\"SELECT * FROM CELL_TOWERS_{};\".format(USERNAME)).show()"
   ]
  },
  {
   "cell_type": "code",
   "execution_count": 8,
   "id": "6fcf77aa-a1cd-4da6-a785-646f98192fee",
   "metadata": {},
   "outputs": [
    {
     "name": "stdout",
     "output_type": "stream",
     "text": [
      "+---+---------------+------------+------------------+----------+---------+------------+------------+------------+------------------+\n",
      "| id|      device_id|manufacturer|        event_type| longitude| latitude|iot_signal_1|iot_signal_3|iot_signal_4|cell_tower_failure|\n",
      "+---+---------------+------------+------------------+----------+---------+------------+------------+------------+------------------+\n",
      "|  0|0x1000000000005|TelecomWorld|system malfunction| -83.61318|51.656384|           3|          51|         104|                 1|\n",
      "|  1|0x100000000001d|TelecomWorld|       battery 10%| -83.04828|51.610226|           9|          52|         103|                 0|\n",
      "|  2|0x1000000000008|TelecomWorld|       battery 10%| -83.60245|51.892113|           6|          54|         103|                 0|\n",
      "|  3|0x100000000001b|     NewComm|       battery 10%| -82.80548|51.913082|           2|          53|         105|                 0|\n",
      "|  4|0x1000000000014|TelecomWorld|       battery 10%| -83.44709|51.972874|          10|          55|         102|                 1|\n",
      "|  5|0x100000000001c|  MyCellular|      device error| -83.46079| 51.81613|           3|          50|         105|                 0|\n",
      "|  6|0x1000000000005|TelecomWorld|system malfunction| -83.59761|51.855946|           2|          50|         102|                 1|\n",
      "|  7|0x100000000000b|TelecomWorld|      device error| -83.62492|51.891964|           5|          54|         102|                 0|\n",
      "|  8|0x1000000000024|     NewComm|       battery 10%| -83.60336|51.912792|           6|          53|         107|                 0|\n",
      "|  9|0x1000000000009|     NewComm|       battery 10%| -83.19714| 51.71434|           7|          53|         104|                 0|\n",
      "| 10|0x1000000000025|  MyCellular|      device error|-83.285675| 51.96362|           5|          55|         106|                 0|\n",
      "| 11|0x1000000000001|  MyCellular|       battery 10%| -83.31925|51.597042|           3|          51|         103|                 0|\n",
      "| 12|0x1000000000020|TelecomWorld|system malfunction| -83.36766|51.873108|           8|          53|         106|                 0|\n",
      "| 13|0x1000000000017|TelecomWorld|        battery 5%| -83.04949|51.906513|           4|          52|         105|                 0|\n",
      "| 14|0x1000000000022|  MyCellular|       battery 10%|  -83.6138|51.602722|           9|          54|         104|                 0|\n",
      "| 15|0x1000000000004|  MyCellular|       battery 10%| -83.31511|51.780037|           8|          51|         101|                 0|\n",
      "| 16|0x100000000001e|     NewComm|      device error| -83.29151| 51.93329|           3|          54|         107|                 0|\n",
      "| 17|0x1000000000012|     NewComm|       battery 10%|  -83.1536|51.704617|           5|          53|         101|                 0|\n",
      "| 18|0x100000000001e|     NewComm|        battery 5%| -83.61711| 52.26972|          10|          53|         101|                 0|\n",
      "| 19|0x1000000000004|  MyCellular|      device error|-82.990944|52.160133|           5|          55|         106|                 0|\n",
      "+---+---------------+------------+------------------+----------+---------+------------+------------+------------+------------------+\n",
      "only showing top 20 rows\n",
      "\n"
     ]
    }
   ],
   "source": [
    "spark.sql(\"SELECT * FROM CELL_TOWERS_{} VERSION AS OF 'ingestion_branch';\".format(USERNAME)).show()"
   ]
  },
  {
   "cell_type": "code",
   "execution_count": 9,
   "id": "c1fa1b41-6ac7-45e9-9c7c-b4b0961cdfcd",
   "metadata": {},
   "outputs": [
    {
     "name": "stdout",
     "output_type": "stream",
     "text": [
      "+--------+\n",
      "|count(1)|\n",
      "+--------+\n",
      "|    1440|\n",
      "+--------+\n",
      "\n"
     ]
    }
   ],
   "source": [
    "spark.sql(\"SELECT COUNT(*) FROM CELL_TOWERS_{};\".format(USERNAME)).show()"
   ]
  },
  {
   "cell_type": "code",
   "execution_count": 10,
   "id": "a174b158-2b31-4ff2-b67b-281d4976178e",
   "metadata": {},
   "outputs": [
    {
     "name": "stdout",
     "output_type": "stream",
     "text": [
      "+----------------+------+-------------------+-----------------------+---------------------+----------------------+\n",
      "|            name|  type|        snapshot_id|max_reference_age_in_ms|min_snapshots_to_keep|max_snapshot_age_in_ms|\n",
      "+----------------+------+-------------------+-----------------------+---------------------+----------------------+\n",
      "|            main|BRANCH|6289792391879563079|                   NULL|                 NULL|                  NULL|\n",
      "|ingestion_branch|BRANCH|9113098974453803790|                   NULL|                 NULL|                  NULL|\n",
      "+----------------+------+-------------------+-----------------------+---------------------+----------------------+\n",
      "\n"
     ]
    }
   ],
   "source": [
    "# SHOW PAST BRANCH SNAPSHOT ID'S\n",
    "spark.sql(\"SELECT * FROM SPARK_CATALOG.DEFAULT.CELL_TOWERS_{}.refs;\".format(USERNAME)).show()"
   ]
  },
  {
   "cell_type": "code",
   "execution_count": 11,
   "id": "3257c75b-4098-4ff6-a1a3-4a8de1a5bf99",
   "metadata": {},
   "outputs": [],
   "source": [
    "# SAVE THE SNAPSHOT ID CORRESPONDING TO THE CREATED BRANCH\n",
    "branchSnapshotId = spark.sql(\"SELECT snapshot_id FROM SPARK_CATALOG.DEFAULT.CELL_TOWERS_{}.refs WHERE NAME == 'ingestion_branch';\".format(USERNAME)).collect()[0][0]"
   ]
  },
  {
   "cell_type": "code",
   "execution_count": 12,
   "id": "cdf22cc7-fb75-4d52-9c7b-e273d15a8080",
   "metadata": {},
   "outputs": [
    {
     "data": {
      "text/plain": [
       "DataFrame[source_snapshot_id: bigint, current_snapshot_id: bigint]"
      ]
     },
     "execution_count": 12,
     "metadata": {},
     "output_type": "execute_result"
    }
   ],
   "source": [
    "# USE THE PROCEDURE TO CHERRY-PICK THE SNAPSHOT\n",
    "# THIS IMPLICITLY SETS THE CURRENT TABLE STATE TO THE STATE DEFINED BY THE CHOSEN PRIOR SNAPSHOT ID\n",
    "spark.sql(\"CALL spark_catalog.system.cherrypick_snapshot('SPARK_CATALOG.DEFAULT.CELL_TOWERS_{0}',{1})\".format(USERNAME, branchSnapshotId))"
   ]
  },
  {
   "cell_type": "code",
   "execution_count": 13,
   "id": "48e28fc9-9361-4c4b-aa69-a678cb3d3094",
   "metadata": {},
   "outputs": [
    {
     "name": "stdout",
     "output_type": "stream",
     "text": [
      "+--------+\n",
      "|count(1)|\n",
      "+--------+\n",
      "|    2880|\n",
      "+--------+\n",
      "\n"
     ]
    }
   ],
   "source": [
    "# VALIDATE THE CHANGES\n",
    "# THE TABLE ROW COUNT IN THE CURRENT TABLE STATE REFLECTS THE APPEND OPERATION - IT PREVIOSULY ONLY DID BY SELECTING THE BRANCH\n",
    "spark.sql(\"SELECT COUNT(*) FROM CELL_TOWERS_{};\".format(USERNAME)).show()"
   ]
  },
  {
   "cell_type": "code",
   "execution_count": 15,
   "id": "563f6dc4-2b3e-40b8-8087-70e20826c605",
   "metadata": {},
   "outputs": [
    {
     "name": "stdout",
     "output_type": "stream",
     "text": [
      "+-----------------------+-------------------+-------------------+---------+--------------------------------------------------------------------------------------------------------------------------------------------------------------------------------------------------------------+---------------------------------------------------------------------------------------------------------------------------------------------------------------------------------------------------------------------------------------------------------------------------------------------------------------------------+\n",
      "|committed_at           |snapshot_id        |parent_id          |operation|manifest_list                                                                                                                                                                                                 |summary                                                                                                                                                                                                                                                                                                                    |\n",
      "+-----------------------+-------------------+-------------------+---------+--------------------------------------------------------------------------------------------------------------------------------------------------------------------------------------------------------------+---------------------------------------------------------------------------------------------------------------------------------------------------------------------------------------------------------------------------------------------------------------------------------------------------------------------------+\n",
      "|2025-01-10 04:31:03.968|6289792391879563079|NULL               |append   |s3a://go01-demo/warehouse/tablespace/external/hive/customer_data HB01/warehouse/tablespace/external/hive/CELL_TOWERS_pauldefusco/metadata/snap-6289792391879563079-1-579ebbb2-cc41-465e-af58-c890e711251b.avro|{spark.app.id -> spark-202987b09451445ea8e312512ec1c8ae, added-data-files -> 1, added-records -> 1440, added-files-size -> 36095, changed-partition-count -> 1, total-records -> 1440, total-files-size -> 36095, total-data-files -> 1, total-delete-files -> 0, total-position-deletes -> 0, total-equality-deletes -> 0}|\n",
      "|2025-01-10 04:31:29.103|9113098974453803790|6289792391879563079|append   |s3a://go01-demo/warehouse/tablespace/external/hive/customer_data HB01/warehouse/tablespace/external/hive/CELL_TOWERS_pauldefusco/metadata/snap-9113098974453803790-1-545736ea-61d3-47ae-bca1-a66b378a4472.avro|{spark.app.id -> spark-202987b09451445ea8e312512ec1c8ae, added-data-files -> 1, added-records -> 1440, added-files-size -> 36097, changed-partition-count -> 1, total-records -> 2880, total-files-size -> 72192, total-data-files -> 2, total-delete-files -> 0, total-position-deletes -> 0, total-equality-deletes -> 0}|\n",
      "+-----------------------+-------------------+-------------------+---------+--------------------------------------------------------------------------------------------------------------------------------------------------------------------------------------------------------------+---------------------------------------------------------------------------------------------------------------------------------------------------------------------------------------------------------------------------------------------------------------------------------------------------------------------------+\n",
      "\n"
     ]
    }
   ],
   "source": [
    "# QUERY ICEBERG METADATA HISTORY TABLE\n",
    "spark.sql(\"SELECT * FROM SPARK_CATALOG.DEFAULT.CELL_TOWERS_{}.snapshots\".format(USERNAME)).show(20, False)"
   ]
  },
  {
   "cell_type": "code",
   "execution_count": null,
   "id": "254ecd9a-84b8-470e-838e-ba9a35b294ed",
   "metadata": {},
   "outputs": [],
   "source": []
  },
  {
   "cell_type": "code",
   "execution_count": null,
   "id": "da3c8369-a734-4b68-99dd-5238f88e89a2",
   "metadata": {},
   "outputs": [],
   "source": []
  }
 ],
 "metadata": {
  "kernelspec": {
   "display_name": "Python 3 (ipykernel)",
   "language": "python",
   "name": "python3"
  },
  "language_info": {
   "codemirror_mode": {
    "name": "ipython",
    "version": 3
   },
   "file_extension": ".py",
   "mimetype": "text/x-python",
   "name": "python",
   "nbconvert_exporter": "python",
   "pygments_lexer": "ipython3",
   "version": "3.9.12"
  }
 },
 "nbformat": 4,
 "nbformat_minor": 5
}
